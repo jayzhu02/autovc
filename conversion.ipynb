{
 "cells": [
  {
   "cell_type": "markdown",
   "metadata": {},
   "source": [
    "## 构建metadata.pkl"
   ]
  },
  {
   "cell_type": "code",
   "execution_count": 2,
   "metadata": {
    "code_folding": [
     8
    ]
   },
   "outputs": [],
   "source": [
    "import os\n",
    "import pickle\n",
    "import torch\n",
    "import numpy as np\n",
    "import glob\n",
    "from math import ceil\n",
    "from model_vc import Generator\n",
    "from pydub import AudioSegment\n",
    "from make_spect import make_spect_fun\n",
    "\n",
    "def pad_seq(x, base=32):\n",
    "    len_out = int(base * ceil(float(x.shape[0])/base))\n",
    "    len_pad = len_out - x.shape[0]\n",
    "    assert len_pad >= 0\n",
    "    return np.pad(x, ((0,len_pad),(0,0)), 'constant'), len_pad\n",
    "\n",
    "device = 'cuda:3'\n",
    "G = Generator(28,256,512,16).eval().to(device)\n",
    "\n",
    "#load model(pre-train and train)\n",
    "g_checkpoint = torch.load('autovc-zhu.ckpt')\n",
    "G.load_state_dict(g_checkpoint['model'])\n",
    "train = pickle.load(open(\"./spmel/train.pkl\",'rb'))"
   ]
  },
  {
   "cell_type": "markdown",
   "metadata": {},
   "source": [
    "## 数据集测试 "
   ]
  },
  {
   "cell_type": "code",
   "execution_count": 7,
   "metadata": {
    "code_folding": []
   },
   "outputs": [],
   "source": [
    "metadata_dataset = []\n",
    "spect_vc = []\n",
    "# Test dataset\n",
    "content_Hotpot1 = np.load('./spmel/H2/EPwchina_EPwchina_86_Hotpot.npy') # 2 second\n",
    "content_Hotpot2 =np.load('./spmel/H4/You_Really_Don-t_Understand_the_West_You_Really_Don-t_Understand_the_West_103_Hotpot.npy')\n",
    "content_Lance1 = np.load('./spmel/L4/Lance_JPHE-005_55_Lance.npy') # 2 second\n",
    "content_Lance2 = np.load('./spmel/L1/Lance_JPLE-007_102_Lance.npy')\n",
    "\n",
    "metadata_dataset.append([train[1][0],train[1][1],content_Hotpot1])\n",
    "metadata_dataset.append([train[3][0],train[3][1],content_Hotpot2])\n",
    "metadata_dataset.append([train[7][0],train[7][1],content_Lance2])\n",
    "metadata_dataset.append([train[4][0],train[4][1],content_Lance1])\n",
    "\n",
    "for sbmt_i in metadata_dataset:\n",
    "             \n",
    "    x_org = sbmt_i[2]\n",
    "    x_org, len_pad = pad_seq(x_org)\n",
    "\n",
    "    #sourse content(1 x * x 80)\n",
    "    uttr_org = torch.from_numpy(x_org[np.newaxis, :, :]).to(device)\n",
    "    #sourse speaker embedding(1 x 256)\n",
    "    emb_org = torch.from_numpy(sbmt_i[1][np.newaxis, :]).to(device)\n",
    "    \n",
    "    for sbmt_j in metadata_dataset:\n",
    "        if sbmt_i[0][0] == sbmt_j[0][0]:\n",
    "            continue\n",
    "        \n",
    "        #target speaker embedding           \n",
    "        emb_trg = torch.from_numpy(sbmt_j[1][np.newaxis, :]).to(device)\n",
    "        \n",
    "        with torch.no_grad():\n",
    "            _, x_identic_psnt, _ = G(uttr_org, emb_org, emb_trg)\n",
    "            \n",
    "        if len_pad == 0:\n",
    "            #content with target utterance\n",
    "            uttr_trg = x_identic_psnt[0, 0, :, :].cpu().numpy()\n",
    "        else:\n",
    "            uttr_trg = x_identic_psnt[0, 0, :-len_pad, :].cpu().numpy()\n",
    "        \n",
    "        spect_vc.append( ('{}x{}'.format(sbmt_i[0], sbmt_j[0]), uttr_trg) )\n",
    "\n",
    "with open('results.pkl', 'wb') as handle:\n",
    "    pickle.dump(spect_vc, handle)       "
   ]
  },
  {
   "cell_type": "code",
   "execution_count": 8,
   "metadata": {},
   "outputs": [
    {
     "data": {
      "text/plain": [
       "[('H2xL4',\n",
       "  array([[0.24622096, 0.23738296, 0.22597304, ..., 0.02101145, 0.01691216,\n",
       "          0.01219785],\n",
       "         [0.26166517, 0.25897247, 0.23621976, ..., 0.0157168 , 0.01558639,\n",
       "          0.00879951],\n",
       "         [0.2741456 , 0.26324314, 0.2234242 , ..., 0.01226834, 0.01382287,\n",
       "          0.0088155 ],\n",
       "         ...,\n",
       "         [0.44051415, 0.43204987, 0.42539343, ..., 0.05698032, 0.05332664,\n",
       "          0.05113255],\n",
       "         [0.45969173, 0.44789028, 0.42510214, ..., 0.06163758, 0.05756512,\n",
       "          0.05837513],\n",
       "         [0.35410523, 0.34686092, 0.34177998, ..., 0.03696606, 0.0365518 ,\n",
       "          0.0366719 ]], dtype=float32)),\n",
       " ('H2xL1',\n",
       "  array([[0.2290548 , 0.21811639, 0.20694557, ..., 0.01950912, 0.01555524,\n",
       "          0.01170908],\n",
       "         [0.234073  , 0.22894524, 0.20844509, ..., 0.01283053, 0.01353043,\n",
       "          0.00946734],\n",
       "         [0.24785969, 0.23489337, 0.20011842, ..., 0.00616541, 0.00929598,\n",
       "          0.00794667],\n",
       "         ...,\n",
       "         [0.43580317, 0.41039097, 0.37913397, ..., 0.03317978, 0.03101772,\n",
       "          0.03156771],\n",
       "         [0.44985995, 0.4109405 , 0.3577314 , ..., 0.04227676, 0.03380166,\n",
       "          0.03359352],\n",
       "         [0.3460958 , 0.3284348 , 0.2959356 , ..., 0.02811821, 0.02603048,\n",
       "          0.02832855]], dtype=float32)),\n",
       " ('H4xL4',\n",
       "  array([[0.4784873 , 0.47774866, 0.48720053, ..., 0.05522928, 0.05603896,\n",
       "          0.04995226],\n",
       "         [0.48632222, 0.48951188, 0.48340154, ..., 0.06354555, 0.0641413 ,\n",
       "          0.05706386],\n",
       "         [0.49731737, 0.50136197, 0.4772045 , ..., 0.06969701, 0.06972571,\n",
       "          0.06184586],\n",
       "         ...,\n",
       "         [0.5842833 , 0.56712866, 0.5607345 , ..., 0.07888336, 0.08772217,\n",
       "          0.07547777],\n",
       "         [0.5555726 , 0.50137675, 0.49804547, ..., 0.06370763, 0.07078835,\n",
       "          0.05298868],\n",
       "         [0.46820363, 0.40333584, 0.4116749 , ..., 0.01715283, 0.02124755,\n",
       "          0.0146523 ]], dtype=float32)),\n",
       " ('H4xL1',\n",
       "  array([[0.46731326, 0.46448654, 0.48315585, ..., 0.04510896, 0.04440952,\n",
       "          0.03957785],\n",
       "         [0.47458982, 0.4747055 , 0.48849615, ..., 0.04410638, 0.04396307,\n",
       "          0.03902083],\n",
       "         [0.46521878, 0.47646114, 0.4842601 , ..., 0.04369092, 0.04320536,\n",
       "          0.03722863],\n",
       "         ...,\n",
       "         [0.6201959 , 0.59610254, 0.57178485, ..., 0.10178722, 0.10155033,\n",
       "          0.09478234],\n",
       "         [0.5769271 , 0.52096677, 0.5076627 , ..., 0.08693805, 0.09256563,\n",
       "          0.08358557],\n",
       "         [0.47479367, 0.40527266, 0.39101532, ..., 0.03223798, 0.03286005,\n",
       "          0.02820979]], dtype=float32)),\n",
       " ('L4xH2', array([[ 0.09301426,  0.07976604,  0.08082616, ...,  0.07807434,\n",
       "           0.0759319 ,  0.07384415],\n",
       "         [ 0.00674815,  0.02166119,  0.02204167, ...,  0.03196859,\n",
       "           0.03517121,  0.03982609],\n",
       "         [-0.01685331, -0.00927271, -0.01503505, ...,  0.01297079,\n",
       "           0.01418326,  0.01797788],\n",
       "         ...,\n",
       "         [ 0.01440472,  0.03346783,  0.04192598, ..., -0.01912829,\n",
       "          -0.01536129, -0.01215807],\n",
       "         [ 0.10188028,  0.12135075,  0.11551797, ...,  0.06497664,\n",
       "           0.06732922,  0.06501301],\n",
       "         [ 0.09608176,  0.12363835,  0.09710547, ...,  0.08992312,\n",
       "           0.08027837,  0.06397156]], dtype=float32)),\n",
       " ('L4xH4', array([[ 0.11848488,  0.1033693 ,  0.11598659, ...,  0.08983481,\n",
       "           0.09190513,  0.09668931],\n",
       "         [ 0.01304328,  0.0308247 ,  0.031813  , ...,  0.03399665,\n",
       "           0.03964581,  0.05056179],\n",
       "         [-0.02183104, -0.01394616, -0.02203838, ...,  0.01035919,\n",
       "           0.01258455,  0.01849331],\n",
       "         ...,\n",
       "         [ 0.02652615,  0.02745442,  0.05104036, ..., -0.01021711,\n",
       "          -0.00429344, -0.00025115],\n",
       "         [ 0.06431149,  0.06453338,  0.08031461, ...,  0.03278017,\n",
       "           0.04069467,  0.044728  ],\n",
       "         [ 0.03658638,  0.04987713,  0.07184565, ...,  0.04175185,\n",
       "           0.04274537,  0.03983822]], dtype=float32)),\n",
       " ('L1xH2',\n",
       "  array([[0.2314062 , 0.21245174, 0.22338697, ..., 0.16749811, 0.1686345 ,\n",
       "          0.16424002],\n",
       "         [0.16779399, 0.16051066, 0.17478985, ..., 0.13784483, 0.13989799,\n",
       "          0.14077112],\n",
       "         [0.17153583, 0.15326881, 0.16909225, ..., 0.12898229, 0.13378347,\n",
       "          0.13788165],\n",
       "         ...,\n",
       "         [0.32849777, 0.33342347, 0.368532  , ..., 0.27477872, 0.2590626 ,\n",
       "          0.2503    ],\n",
       "         [0.4036463 , 0.38557458, 0.41868243, ..., 0.28359705, 0.27119273,\n",
       "          0.26041788],\n",
       "         [0.4137558 , 0.39867803, 0.43692404, ..., 0.26397997, 0.259757  ,\n",
       "          0.2532452 ]], dtype=float32)),\n",
       " ('L1xH4',\n",
       "  array([[0.2533904 , 0.23054968, 0.2540287 , ..., 0.17537633, 0.18078539,\n",
       "          0.18221019],\n",
       "         [0.1892817 , 0.175926  , 0.20244364, ..., 0.14250119, 0.1486674 ,\n",
       "          0.15601915],\n",
       "         [0.19718993, 0.17264326, 0.19508994, ..., 0.1272203 , 0.13772674,\n",
       "          0.15026829],\n",
       "         ...,\n",
       "         [0.05674289, 0.15251088, 0.15064704, ..., 0.1701153 , 0.1562274 ,\n",
       "          0.16328721],\n",
       "         [0.175725  , 0.26419848, 0.25881648, ..., 0.19325636, 0.18144983,\n",
       "          0.18521746],\n",
       "         [0.25485072, 0.3156607 , 0.30337906, ..., 0.19636759, 0.18776394,\n",
       "          0.19338514]], dtype=float32))]"
      ]
     },
     "execution_count": 8,
     "metadata": {},
     "output_type": "execute_result"
    }
   ],
   "source": [
    "spect_vc"
   ]
  },
  {
   "cell_type": "code",
   "execution_count": null,
   "metadata": {},
   "outputs": [],
   "source": [
    "from IPython.display import Audio\n",
    "\n",
    "display(Audio('./output/H2xH2.wav'))\n",
    "display(Audio('./output/H2xH4.wav'))\n"
   ]
  },
  {
   "cell_type": "markdown",
   "metadata": {},
   "source": [
    "## 测试集测试 "
   ]
  },
  {
   "cell_type": "code",
   "execution_count": 3,
   "metadata": {
    "code_folding": [
     7
    ],
    "scrolled": true
   },
   "outputs": [],
   "source": [
    "metadata_test = []\n",
    "spect_vc = []\n",
    "rootDir = './Testset/'\n",
    "wav_list = glob.glob(rootDir+\"*.wav\")\n",
    "i = 1\n",
    "\n",
    "# Test Unknown\n",
    "for wav in wav_list:   \n",
    "    content_U = make_spect_fun(wav)\n",
    "    metadata_test.append([train[0][0],train[0][1],content_U]) #H1\n",
    "    metadata_test.append([train[4][0],train[4][1],content_U]) #L1\n",
    "\n",
    "for index in range(len(metadata_test)):\n",
    "             \n",
    "    x_org = metadata_test[index][2]\n",
    "    x_org, len_pad = pad_seq(x_org)\n",
    "    \n",
    "    #sourse content(1 x * x 80)\n",
    "    uttr_org = torch.from_numpy(x_org[np.newaxis, :, :]).to(device)\n",
    "    #sourse speaker embedding(1 x 256)\n",
    "    emb_org = torch.from_numpy(metadata_test[index][1][np.newaxis, :]).to(device)\n",
    "    \n",
    "    #target speaker embedding           \n",
    "    emb_trg = torch.from_numpy(metadata_test[index][1][np.newaxis, :]).to(device)\n",
    "\n",
    "    with torch.no_grad():\n",
    "        _, x_identic_psnt, _ = G(uttr_org, emb_org, emb_trg)\n",
    "\n",
    "    if len_pad == 0:\n",
    "        #content with target utterance\n",
    "        uttr_trg = x_identic_psnt[0, 0, :, :].cpu().numpy()\n",
    "    else:\n",
    "        uttr_trg = x_identic_psnt[0, 0, :-len_pad, :].cpu().numpy()\n",
    "\n",
    "    spect_vc.append( ('{}x{}'.format('U'+str(i), metadata_test[index][0]), uttr_trg) )\n",
    "    if index % 2 ==1:\n",
    "        i+=1\n",
    "with open('results.pkl', 'wb') as handle:\n",
    "    pickle.dump(spect_vc, handle)          "
   ]
  },
  {
   "cell_type": "code",
   "execution_count": 4,
   "metadata": {},
   "outputs": [
    {
     "data": {
      "text/plain": [
       "['./Testset/American_IMPERIALIST_Hong_Kong_Bill_American_IMPERIALIST_Hong_Kong_Bill_119_Hotpot.wav',\n",
       " './Testset/Lance_JPLE-007_167_Lance.wav',\n",
       " './Testset/CNNchina_CNNchina_22_Hotpot.wav',\n",
       " './Testset/p311_020.wav',\n",
       " './Testset/Lance_JPLE-007_165_Lance.wav',\n",
       " './Testset/p237_057.wav',\n",
       " './Testset/Lance_JPLE-007_166_Lance.wav',\n",
       " './Testset/p254_016.wav',\n",
       " './Testset/p245_010.wav',\n",
       " './Testset/p245_001.wav',\n",
       " './Testset/p286_064.wav']"
      ]
     },
     "execution_count": 4,
     "metadata": {},
     "output_type": "execute_result"
    }
   ],
   "source": [
    "wav_list"
   ]
  },
  {
   "cell_type": "markdown",
   "metadata": {},
   "source": [
    "## Original Test "
   ]
  },
  {
   "cell_type": "code",
   "execution_count": 8,
   "metadata": {
    "code_folding": [
     8,
     25
    ]
   },
   "outputs": [],
   "source": [
    "import os\n",
    "import pickle\n",
    "import torch\n",
    "import numpy as np\n",
    "from math import ceil\n",
    "from model_vc import Generator\n",
    "from pydub import AudioSegment\n",
    "\n",
    "def pad_seq(x, base=32):\n",
    "    len_out = int(base * ceil(float(x.shape[0])/base))\n",
    "    len_pad = len_out - x.shape[0]\n",
    "    assert len_pad >= 0\n",
    "    return np.pad(x, ((0,len_pad),(0,0)), 'constant'), len_pad\n",
    "\n",
    "device = 'cuda:3'\n",
    "G = Generator(32,256,512,16).eval().to(device)\n",
    "\n",
    "#load model(pre-train and train)\n",
    "g_checkpoint = torch.load('autovc-zhu.ckpt')\n",
    "G.load_state_dict(g_checkpoint['model'])\n",
    "\n",
    "metadata = pickle.load(open('metadata.pkl', \"rb\"))\n",
    "\n",
    "spect_vc = []\n",
    "\n",
    "for sbmt_i in metadata:\n",
    "             \n",
    "    x_org = sbmt_i[2]\n",
    "    x_org, len_pad = pad_seq(x_org)\n",
    "\n",
    "    #sourse content(1 x * x 80)\n",
    "    uttr_org = torch.from_numpy(x_org[np.newaxis, :, :]).to(device)\n",
    "    #sourse speaker embedding(1 x 256)\n",
    "    emb_org = torch.from_numpy(sbmt_i[1][np.newaxis, :]).to(device)\n",
    "    \n",
    "    for sbmt_j in metadata:\n",
    "\n",
    "        #target speaker embedding           \n",
    "        emb_trg = torch.from_numpy(sbmt_j[1][np.newaxis, :]).to(device)\n",
    "        \n",
    "        with torch.no_grad():\n",
    "            _, x_identic_psnt, _ = G(uttr_org, emb_org, emb_trg)\n",
    "            \n",
    "        if len_pad == 0:\n",
    "            #content with target utterance\n",
    "            uttr_trg = x_identic_psnt[0, 0, :, :].cpu().numpy()\n",
    "        else:\n",
    "            uttr_trg = x_identic_psnt[0, 0, :-len_pad, :].cpu().numpy()\n",
    "        \n",
    "        spect_vc.append( ('{}x{}'.format(sbmt_i[0], sbmt_j[0]), uttr_trg) )\n",
    "        \n",
    "# metadata.pkl中包含了225、228、270和256这4个说话人，两两结合生成对应的说话人特征的spectrogram(eg. p225xp270(目标).wav)\n",
    "\n",
    "with open('results.pkl', 'wb') as handle:\n",
    "    pickle.dump(spect_vc, handle)          "
   ]
  }
 ],
 "metadata": {
  "kernelspec": {
   "display_name": "Python 3",
   "language": "python",
   "name": "python3"
  },
  "language_info": {
   "codemirror_mode": {
    "name": "ipython",
    "version": 3
   },
   "file_extension": ".py",
   "mimetype": "text/x-python",
   "name": "python",
   "nbconvert_exporter": "python",
   "pygments_lexer": "ipython3",
   "version": "3.5.2"
  },
  "toc": {
   "base_numbering": "",
   "nav_menu": {
    "height": "11.9676px",
    "width": "163.958px"
   },
   "number_sections": false,
   "sideBar": true,
   "skip_h1_title": false,
   "title_cell": "Table of Contents",
   "title_sidebar": "Contents",
   "toc_cell": false,
   "toc_position": {},
   "toc_section_display": true,
   "toc_window_display": false
  },
  "varInspector": {
   "cols": {
    "lenName": 16,
    "lenType": 16,
    "lenVar": 40
   },
   "kernels_config": {
    "python": {
     "delete_cmd_postfix": "",
     "delete_cmd_prefix": "del ",
     "library": "var_list.py",
     "varRefreshCmd": "print(var_dic_list())"
    },
    "r": {
     "delete_cmd_postfix": ") ",
     "delete_cmd_prefix": "rm(",
     "library": "var_list.r",
     "varRefreshCmd": "cat(var_dic_list()) "
    }
   },
   "types_to_exclude": [
    "module",
    "function",
    "builtin_function_or_method",
    "instance",
    "_Feature"
   ],
   "window_display": false
  }
 },
 "nbformat": 4,
 "nbformat_minor": 4
}
